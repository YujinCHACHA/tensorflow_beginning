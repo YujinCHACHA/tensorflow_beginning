{
  "nbformat": 4,
  "nbformat_minor": 0,
  "metadata": {
    "colab": {
      "name": "acla_proj_000.ipynb",
      "provenance": []
    },
    "kernelspec": {
      "name": "python3",
      "display_name": "Python 3"
    },
    "language_info": {
      "name": "python"
    }
  },
  "cells": [
    {
      "cell_type": "code",
      "execution_count": 1,
      "metadata": {
        "id": "FSKoazuTo7ug"
      },
      "outputs": [],
      "source": [
        "import numpy as np\n",
        "import tensorflow as tf\n"
      ]
    },
    {
      "cell_type": "code",
      "source": [
        "aa = tf.constant([[[1,1,1]],[[1,1,3]]])\n",
        "print(tf.rank(aa))\n",
        "print(aa)"
      ],
      "metadata": {
        "colab": {
          "base_uri": "https://localhost:8080/"
        },
        "id": "ilVnigTYpMGY",
        "outputId": "70f68637-9b2f-4bc4-fe59-86fd7680ce94"
      },
      "execution_count": 17,
      "outputs": [
        {
          "output_type": "stream",
          "name": "stdout",
          "text": [
            "tf.Tensor(3, shape=(), dtype=int32)\n",
            "tf.Tensor(\n",
            "[[[1 1 1]]\n",
            "\n",
            " [[1 1 3]]], shape=(2, 1, 3), dtype=int32)\n"
          ]
        }
      ]
    },
    {
      "cell_type": "code",
      "source": [
        "b = tf.constant(['Hello'])\n",
        "print(tf.rank(b))\n",
        "print(b)"
      ],
      "metadata": {
        "colab": {
          "base_uri": "https://localhost:8080/"
        },
        "id": "fHAYQSe6qJEr",
        "outputId": "29e2ec10-cf5f-4032-bf02-e6fdfb4ccecf"
      },
      "execution_count": 18,
      "outputs": [
        {
          "output_type": "stream",
          "name": "stdout",
          "text": [
            "tf.Tensor(1, shape=(), dtype=int32)\n",
            "tf.Tensor([b'Hello'], shape=(1,), dtype=string)\n"
          ]
        }
      ]
    },
    {
      "cell_type": "markdown",
      "source": [
        "# 난수생성"
      ],
      "metadata": {
        "id": "xqpysmrlqTh3"
      }
    },
    {
      "cell_type": "code",
      "source": [
        "rand = tf.random.uniform([1],0,1) # def random_uniform(shape, 최솟값=0, 최댓값=None, dtype=dtypes.float32, seed=None, name=None)\n",
        "print(rand.shape)\n",
        "print(rand)"
      ],
      "metadata": {
        "colab": {
          "base_uri": "https://localhost:8080/"
        },
        "id": "4IjbGYVxqSzD",
        "outputId": "b0959edb-d6de-4da9-a5e3-117b49a5b73b"
      },
      "execution_count": 22,
      "outputs": [
        {
          "output_type": "stream",
          "name": "stdout",
          "text": [
            "(1,)\n",
            "tf.Tensor([0.26496744], shape=(1,), dtype=float32)\n"
          ]
        }
      ]
    },
    {
      "cell_type": "code",
      "source": [
        "rand2= tf.random.normal([1,2],0,1) # def random_normal(shape, mean=0.0, stddev=1.0, dtype=dtypes.float32, seed=None, name=None)\n",
        "print(rand2.shape)\n",
        "print(rand2)"
      ],
      "metadata": {
        "colab": {
          "base_uri": "https://localhost:8080/"
        },
        "id": "v6A-Q9Umqy9W",
        "outputId": "04c04787-57f3-40a6-e7f4-0d782b380275"
      },
      "execution_count": 24,
      "outputs": [
        {
          "output_type": "stream",
          "name": "stdout",
          "text": [
            "(1, 2)\n",
            "tf.Tensor([[-1.8390859 -0.3259227]], shape=(1, 2), dtype=float32)\n"
          ]
        }
      ]
    },
    {
      "cell_type": "markdown",
      "source": [
        "# 즉시 실행 모드 (Eager Mode) 지원\n",
        "\n",
        "\n",
        "*  즉시 실행모드를 통해 텐서플로우를 파이썬처럼 사용할 수 있음\n",
        "*  1.x 버전에서는 '그래프'를 생성하고, 초기화 한 뒤에 세션을 통해 값을 흐리게 하는 작업을 진행해야 함.\n",
        "\n"
      ],
      "metadata": {
        "id": "cKQlLfsErh0O"
      }
    },
    {
      "cell_type": "code",
      "source": [
        "a = tf.constant(3)\n",
        "b = tf.constant(2)"
      ],
      "metadata": {
        "id": "9L2HHLEsrb1P"
      },
      "execution_count": 25,
      "outputs": []
    },
    {
      "cell_type": "code",
      "source": [
        "print(tf.add(a,b))\n",
        "print(a+b)"
      ],
      "metadata": {
        "colab": {
          "base_uri": "https://localhost:8080/"
        },
        "id": "XzPV2dkZr3su",
        "outputId": "8111a13f-9905-408f-ba89-12b1838b9e4a"
      },
      "execution_count": 26,
      "outputs": [
        {
          "output_type": "stream",
          "name": "stdout",
          "text": [
            "tf.Tensor(5, shape=(), dtype=int32)\n",
            "tf.Tensor(5, shape=(), dtype=int32)\n"
          ]
        }
      ]
    },
    {
      "cell_type": "code",
      "source": [
        "print(tf.subtract(a,b))\n",
        "print(a-b)"
      ],
      "metadata": {
        "colab": {
          "base_uri": "https://localhost:8080/"
        },
        "id": "aRcgtCB8sBzp",
        "outputId": "8561ee7f-1717-4a40-bc66-ade482e57684"
      },
      "execution_count": 28,
      "outputs": [
        {
          "output_type": "stream",
          "name": "stdout",
          "text": [
            "tf.Tensor(1, shape=(), dtype=int32)\n",
            "tf.Tensor(1, shape=(), dtype=int32)\n"
          ]
        }
      ]
    },
    {
      "cell_type": "code",
      "source": [
        "print(tf.multiply(a,b))\n",
        "print(a*b)"
      ],
      "metadata": {
        "colab": {
          "base_uri": "https://localhost:8080/"
        },
        "id": "LmstbyMtsHlV",
        "outputId": "f3221605-b9aa-4ca8-adef-f6e4aab123d4"
      },
      "execution_count": 30,
      "outputs": [
        {
          "output_type": "stream",
          "name": "stdout",
          "text": [
            "tf.Tensor(6, shape=(), dtype=int32)\n",
            "tf.Tensor(6, shape=(), dtype=int32)\n"
          ]
        }
      ]
    },
    {
      "cell_type": "markdown",
      "source": [
        "# 텐서플로우 <-> 넘파이\n",
        "\n",
        "*   numpy()\n",
        "*   tf.convet_to_tensor()\n",
        "\n",
        "\n"
      ],
      "metadata": {
        "id": "01BOgDomsN7c"
      }
    },
    {
      "cell_type": "code",
      "source": [
        "c = tf.add(a,b).numpy()\n",
        "print(type(c))"
      ],
      "metadata": {
        "colab": {
          "base_uri": "https://localhost:8080/"
        },
        "id": "PIbIez-MsMFV",
        "outputId": "50422182-1428-4bd2-db2e-0e8994eb7bc3"
      },
      "execution_count": 31,
      "outputs": [
        {
          "output_type": "stream",
          "name": "stdout",
          "text": [
            "<class 'numpy.int32'>\n"
          ]
        }
      ]
    },
    {
      "cell_type": "code",
      "source": [
        "c_square = np.square(c,dtype=np.float32)\n",
        "c_tensor = tf.convert_to_tensor"
      ],
      "metadata": {
        "id": "bIxN_UY-s3F8"
      },
      "execution_count": 32,
      "outputs": []
    },
    {
      "cell_type": "code",
      "source": [
        ""
      ],
      "metadata": {
        "id": "vhF5DnkatOSg"
      },
      "execution_count": null,
      "outputs": []
    }
  ]
}